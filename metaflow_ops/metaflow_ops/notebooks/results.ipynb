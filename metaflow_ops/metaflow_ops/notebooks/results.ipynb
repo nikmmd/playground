{
 "cells": [
  {
   "cell_type": "code",
   "execution_count": 52,
   "metadata": {},
   "outputs": [
    {
     "name": "stdout",
     "output_type": "stream",
     "text": [
      "[Flow('LinearFlow')]\n"
     ]
    }
   ],
   "source": [
    "from metaflow import Run, Metaflow, get_metadata, metadata\n",
    "\n",
    "metadata(\"../flows\")\n",
    "\n",
    "print(Metaflow().flows)\n"
   ]
  },
  {
   "cell_type": "code",
   "execution_count": 54,
   "metadata": {},
   "outputs": [
    {
     "data": {
      "text/plain": [
       "[Run('LinearFlow/1683706594543013'),\n",
       " Run('LinearFlow/1683706543141892'),\n",
       " Run('LinearFlow/1683703862210412'),\n",
       " Run('LinearFlow/1683703720752174'),\n",
       " Run('LinearFlow/1683703606896473'),\n",
       " Run('LinearFlow/1683703551237377'),\n",
       " Run('LinearFlow/1683703548160906'),\n",
       " Run('LinearFlow/1683703544965489'),\n",
       " Run('LinearFlow/1683703459671042')]"
      ]
     },
     "execution_count": 54,
     "metadata": {},
     "output_type": "execute_result"
    }
   ],
   "source": [
    "#get runs\n",
    "from metaflow import Flow\n",
    "flow = Flow('LinearFlow')\n",
    "runs = list(flow)\n",
    "runs"
   ]
  },
  {
   "cell_type": "code",
   "execution_count": 46,
   "metadata": {},
   "outputs": [
    {
     "name": "stdout",
     "output_type": "stream",
     "text": [
      "hello world\n",
      "hello world\n",
      "hello world\n"
     ]
    }
   ],
   "source": [
    "latest_run = flow.latest_run\n",
    "latest_run\n",
    "\n",
    "for step in latest_run.steps():\n",
    "    print(step.task.data.my_var)\n"
   ]
  },
  {
   "cell_type": "code",
   "execution_count": 51,
   "metadata": {},
   "outputs": [
    {
     "name": "stdout",
     "output_type": "stream",
     "text": [
      "Run('LinearFlow/1683703862210412')\n",
      "hello world\n",
      "hello world\n",
      "hello world\n",
      "Run('LinearFlow/1683703720752174')\n",
      "hello world\n",
      "hello world\n",
      "hello world\n",
      "Run('LinearFlow/1683703606896473')\n",
      "hello world\n",
      "hello world\n",
      "hello world\n",
      "Run('LinearFlow/1683703551237377')\n",
      "hello world\n",
      "hello world\n",
      "hello world\n",
      "Run('LinearFlow/1683703548160906')\n",
      "hello world\n",
      "hello world\n",
      "hello world\n",
      "Run('LinearFlow/1683703544965489')\n",
      "hello world\n",
      "hello world\n",
      "hello world\n",
      "Run('LinearFlow/1683703459671042')\n",
      "hello world\n",
      "hello world\n",
      "hello world\n"
     ]
    }
   ],
   "source": [
    "#dynamic\n",
    "for run in runs:\n",
    " print(run)\n",
    " for step in run.steps():\n",
    "    print(step.task.data.my_var)\n",
    "\n",
    "#   for step in run.steps:\n",
    "#     print(step)"
   ]
  }
 ],
 "metadata": {
  "kernelspec": {
   "display_name": "Python 3",
   "language": "python",
   "name": "python3"
  },
  "language_info": {
   "codemirror_mode": {
    "name": "ipython",
    "version": 3
   },
   "file_extension": ".py",
   "mimetype": "text/x-python",
   "name": "python",
   "nbconvert_exporter": "python",
   "pygments_lexer": "ipython3",
   "version": "3.9.16"
  },
  "orig_nbformat": 4
 },
 "nbformat": 4,
 "nbformat_minor": 2
}
